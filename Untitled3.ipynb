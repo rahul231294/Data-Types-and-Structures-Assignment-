{
  "nbformat": 4,
  "nbformat_minor": 0,
  "metadata": {
    "colab": {
      "provenance": [],
      "toc_visible": true
    },
    "kernelspec": {
      "name": "python3",
      "display_name": "Python 3"
    },
    "language_info": {
      "name": "python"
    }
  },
  "cells": [
    {
      "cell_type": "code",
      "execution_count": 2,
      "metadata": {
        "id": "G66PD37j6-yE"
      },
      "outputs": [],
      "source": [
        "def fullname(rahul,kumar):\n",
        "  print(\"Hello\",rahul, kumar)"
      ]
    },
    {
      "cell_type": "code",
      "source": [
        "# This program prints Hello, world!\n",
        "\n",
        "print('Hello, world!')"
      ],
      "metadata": {
        "colab": {
          "base_uri": "https://localhost:8080/"
        },
        "id": "lOK8DjTsI6Gf",
        "outputId": "bb4379fc-1019-4666-87a4-d94589eb5665"
      },
      "execution_count": 3,
      "outputs": [
        {
          "output_type": "stream",
          "name": "stdout",
          "text": [
            "Hello, world!\n"
          ]
        }
      ]
    },
    {
      "cell_type": "code",
      "source": [
        "s = \"Welcome to scaler docs\"\n",
        "s1 = slice(6) # takes start as 0 automatically\n",
        "print(\"s1-obj:\", s1)\n",
        "print(\"s1-res:\", s[s1])\n",
        "s2 = slice(2,8) # using slice(start, end, step) without step\n",
        "print(\"s2-obj:\", s2)\n",
        "print(\"s2-res:\", s[s2])\n",
        "s3 = slice(1, 20, 2) # using slice(start, end, step) with step\n",
        "print(\"s3-obj:\", s3)\n",
        "print(\"s3-res:\", s[s3])\n"
      ],
      "metadata": {
        "colab": {
          "base_uri": "https://localhost:8080/"
        },
        "id": "NttTTBl0JvAP",
        "outputId": "add85605-3953-4a0a-d160-3ef40ae7274f"
      },
      "execution_count": 4,
      "outputs": [
        {
          "output_type": "stream",
          "name": "stdout",
          "text": [
            "s1-obj: slice(None, 6, None)\n",
            "s1-res: Welcom\n",
            "s2-obj: slice(2, 8, None)\n",
            "s2-res: lcome \n",
            "s3-obj: slice(1, 20, 2)\n",
            "s3-res: ecm osae o\n"
          ]
        }
      ]
    },
    {
      "cell_type": "code",
      "source": [
        "str1 = 'Hello, codedamn!'\n",
        "str2 = 'HELLO, CODEDAMN!'\n",
        "\n",
        "str1 = 'Hello, codedamn!'\n",
        "str2 = 'HELLO, CODEDAMN!'\n",
        "\n",
        "if str1.upper() == str2.upper():\n",
        "    print(\"The strings are the same.\")\n",
        "else:\n",
        "    print(\"The strings are not the same.\")"
      ],
      "metadata": {
        "colab": {
          "base_uri": "https://localhost:8080/"
        },
        "id": "HQuDZsm-KZqs",
        "outputId": "0e38fbd6-deaa-4f90-cc3b-c791d28d622e"
      },
      "execution_count": 6,
      "outputs": [
        {
          "output_type": "stream",
          "name": "stdout",
          "text": [
            "The strings are the same.\n"
          ]
        }
      ]
    },
    {
      "cell_type": "code",
      "source": [
        ">>> a = [\"I like apple\",\"I love you so much\"]\n",
        ">>> [i.replace('apple','orange').replace('love','like') for i in a]\n",
        "['I like orange', 'I like you so much']\n",
        ">>>"
      ],
      "metadata": {
        "colab": {
          "base_uri": "https://localhost:8080/"
        },
        "id": "aIRn0ImnLA5O",
        "outputId": "3717a9ab-ad1e-4a73-d73b-ec3415bf7d8d"
      },
      "execution_count": 7,
      "outputs": [
        {
          "output_type": "execute_result",
          "data": {
            "text/plain": [
              "['I like orange', 'I like you so much']"
            ]
          },
          "metadata": {},
          "execution_count": 7
        }
      ]
    },
    {
      "cell_type": "code",
      "source": [
        "#Print first 5 natural numbers using while loop\n",
        "count = 1\n",
        "while count <= 5:\n",
        " print(count)\n",
        " count += 1"
      ],
      "metadata": {
        "colab": {
          "base_uri": "https://localhost:8080/"
        },
        "id": "J47JMvRtLe7t",
        "outputId": "eb5457e0-1221-4e77-99dc-9b4ab330f2f2"
      },
      "execution_count": 8,
      "outputs": [
        {
          "output_type": "stream",
          "name": "stdout",
          "text": [
            "1\n",
            "2\n",
            "3\n",
            "4\n",
            "5\n"
          ]
        }
      ]
    },
    {
      "cell_type": "code",
      "source": [
        "numbers = list(range(1,2,3,4))\n",
        "i = 0\n",
        "while i < len(numbers):\n",
        "    print(numbers[i] ,end = \" \")\n",
        "    i += 3\n",
        "    print(numbers[i] ,end = \" \")\n",
        "    i += 3"
      ],
      "metadata": {
        "colab": {
          "base_uri": "https://localhost:8080/",
          "height": 211
        },
        "id": "rnCLDCC7L1Nc",
        "outputId": "7a7e870d-9f32-4277-c65c-45fd8446fe99"
      },
      "execution_count": 15,
      "outputs": [
        {
          "output_type": "error",
          "ename": "TypeError",
          "evalue": "range expected at most 3 arguments, got 4",
          "traceback": [
            "\u001b[0;31m---------------------------------------------------------------------------\u001b[0m",
            "\u001b[0;31mTypeError\u001b[0m                                 Traceback (most recent call last)",
            "\u001b[0;32m<ipython-input-15-a8abed6ad1d5>\u001b[0m in \u001b[0;36m<cell line: 0>\u001b[0;34m()\u001b[0m\n\u001b[0;32m----> 1\u001b[0;31m \u001b[0mnumbers\u001b[0m \u001b[0;34m=\u001b[0m \u001b[0mlist\u001b[0m\u001b[0;34m(\u001b[0m\u001b[0mrange\u001b[0m\u001b[0;34m(\u001b[0m\u001b[0;36m1\u001b[0m\u001b[0;34m,\u001b[0m\u001b[0;36m2\u001b[0m\u001b[0;34m,\u001b[0m\u001b[0;36m3\u001b[0m\u001b[0;34m,\u001b[0m\u001b[0;36m4\u001b[0m\u001b[0;34m)\u001b[0m\u001b[0;34m)\u001b[0m\u001b[0;34m\u001b[0m\u001b[0;34m\u001b[0m\u001b[0m\n\u001b[0m\u001b[1;32m      2\u001b[0m \u001b[0mi\u001b[0m \u001b[0;34m=\u001b[0m \u001b[0;36m0\u001b[0m\u001b[0;34m\u001b[0m\u001b[0;34m\u001b[0m\u001b[0m\n\u001b[1;32m      3\u001b[0m \u001b[0;32mwhile\u001b[0m \u001b[0mi\u001b[0m \u001b[0;34m<\u001b[0m \u001b[0mlen\u001b[0m\u001b[0;34m(\u001b[0m\u001b[0mnumbers\u001b[0m\u001b[0;34m)\u001b[0m\u001b[0;34m:\u001b[0m\u001b[0;34m\u001b[0m\u001b[0;34m\u001b[0m\u001b[0m\n\u001b[1;32m      4\u001b[0m     \u001b[0mprint\u001b[0m\u001b[0;34m(\u001b[0m\u001b[0mnumbers\u001b[0m\u001b[0;34m[\u001b[0m\u001b[0mi\u001b[0m\u001b[0;34m]\u001b[0m \u001b[0;34m,\u001b[0m\u001b[0mend\u001b[0m \u001b[0;34m=\u001b[0m \u001b[0;34m\" \"\u001b[0m\u001b[0;34m)\u001b[0m\u001b[0;34m\u001b[0m\u001b[0;34m\u001b[0m\u001b[0m\n\u001b[1;32m      5\u001b[0m     \u001b[0mi\u001b[0m \u001b[0;34m+=\u001b[0m \u001b[0;36m3\u001b[0m\u001b[0;34m\u001b[0m\u001b[0;34m\u001b[0m\u001b[0m\n",
            "\u001b[0;31mTypeError\u001b[0m: range expected at most 3 arguments, got 4"
          ]
        }
      ]
    },
    {
      "cell_type": "code",
      "source": [
        "a = [1,2,3,4,5]\n",
        "\n",
        "for i in range(5):\n",
        "    a.remove(i+1)\n",
        "\n",
        "print(a)\n"
      ],
      "metadata": {
        "colab": {
          "base_uri": "https://localhost:8080/"
        },
        "id": "0miaFa-PN6gt",
        "outputId": "d342f41b-d735-4d5d-eab3-be5670b8012f"
      },
      "execution_count": 17,
      "outputs": [
        {
          "output_type": "stream",
          "name": "stdout",
          "text": [
            "[]\n"
          ]
        }
      ]
    },
    {
      "cell_type": "code",
      "source": [
        "items = [['a','b'],['c','d']]\n",
        "\n",
        "new_list = [item[1] for item in items] # where 1 in item[1] is the index of last element or you can use -1\n",
        "\n",
        "print(new_list) # ['b', 'd']\n"
      ],
      "metadata": {
        "colab": {
          "base_uri": "https://localhost:8080/"
        },
        "id": "uunnbxiyOugm",
        "outputId": "f975fd7b-1819-43f4-e293-ba2348c14e3c"
      },
      "execution_count": 19,
      "outputs": [
        {
          "output_type": "stream",
          "name": "stdout",
          "text": [
            "['b', 'd']\n"
          ]
        }
      ]
    },
    {
      "cell_type": "code",
      "source": [
        "x = (\"10\",\"20\",\"30\",\"40\",\"50\")\n",
        "#Tuple(\"10\",\"20\",\"30\",\"40\",\"50\") #error, not need this\n",
        "print(tuple(reversed(x)))\n",
        "#print(*reversed(x)) #alternative..\n"
      ],
      "metadata": {
        "colab": {
          "base_uri": "https://localhost:8080/"
        },
        "id": "kz6swyZUPPBm",
        "outputId": "a6abc008-358f-4017-9e7d-af070e92ca53"
      },
      "execution_count": 20,
      "outputs": [
        {
          "output_type": "stream",
          "name": "stdout",
          "text": [
            "('50', '40', '30', '20', '10')\n"
          ]
        }
      ]
    },
    {
      "cell_type": "code",
      "source": [
        "# Create a tuple containing three numbers\n",
        "t = (100, 200, 300)\n",
        "\n",
        "# Use the 'format' method to insert the tuple 't' into the string and print the result\n",
        "print('This is a tuple {0}'.format(t))"
      ],
      "metadata": {
        "colab": {
          "base_uri": "https://localhost:8080/"
        },
        "id": "Mz7NayCxPcht",
        "outputId": "86fa05b7-bc4c-444a-acf4-b3b1b266a875"
      },
      "execution_count": 21,
      "outputs": [
        {
          "output_type": "stream",
          "name": "stdout",
          "text": [
            "This is a tuple (100, 200, 300)\n"
          ]
        }
      ]
    },
    {
      "cell_type": "code",
      "source": [
        "tuple1 = (1,2,2,3,5,4,6)\n",
        "tuple2 = (\"Red\", \"Green\", \"Blue\")\n",
        "print(tuple1)\n",
        "print(tuple2)"
      ],
      "metadata": {
        "colab": {
          "base_uri": "https://localhost:8080/"
        },
        "id": "G6WbVJ2aQW8L",
        "outputId": "c52479fd-26c2-4491-d606-685ef19b5cbd"
      },
      "execution_count": 22,
      "outputs": [
        {
          "output_type": "stream",
          "name": "stdout",
          "text": [
            "(1, 2, 2, 3, 5, 4, 6)\n",
            "('Red', 'Green', 'Blue')\n"
          ]
        }
      ]
    },
    {
      "cell_type": "code",
      "source": [],
      "metadata": {
        "id": "CphRBp4oQZwB"
      },
      "execution_count": null,
      "outputs": []
    },
    {
      "cell_type": "markdown",
      "source": [],
      "metadata": {
        "id": "hMpYhcJ7QrbD"
      }
    }
  ]
}